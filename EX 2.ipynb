{
 "cells": [
  {
   "cell_type": "code",
   "execution_count": null,
   "id": "5fad7b17-027a-46e4-9ef1-95842d8f9878",
   "metadata": {},
   "outputs": [],
   "source": [
    "from collections import deque\n",
    "from collections import defaultdict\n",
    "\n",
    "def dfs(graph, start, visited, path):\n",
    "    path.append(start)\n",
    "    visited[start] = True\n",
    "    for neighbour in graph[start]:\n",
    "        if visited[neighbour] == False:\n",
    "            dfs(graph, neighbour, visited, path)\n",
    "            visited[neighbour] = True\n",
    "    return path\n",
    "\n",
    "graph = defaultdict(list)\n",
    "n, e = map(int, input().split())\n",
    "for i in range(e):\n",
    "    u, v = map(str, input().split())\n",
    "    graph[u].append(v)\n",
    "    graph[v].append(u)\n",
    "# print(graph)\n",
    "start = \"A\"\n",
    "visited = defaultdict(bool)\n",
    "path = []\n",
    "traversedpath = dfs(graph, start, visited, path)\n",
    "print(traversedpath)"
   ]
  },
  {
   "cell_type": "code",
   "execution_count": null,
   "id": "40aee8f9-fe01-497b-94ac-96734c9727d4",
   "metadata": {},
   "outputs": [],
   "source": []
  }
 ],
 "metadata": {
  "kernelspec": {
   "display_name": "Python 3 (ipykernel)",
   "language": "python",
   "name": "python3"
  },
  "language_info": {
   "codemirror_mode": {
    "name": "ipython",
    "version": 3
   },
   "file_extension": ".py",
   "mimetype": "text/x-python",
   "name": "python",
   "nbconvert_exporter": "python",
   "pygments_lexer": "ipython3",
   "version": "3.11.13"
  }
 },
 "nbformat": 4,
 "nbformat_minor": 5
}
